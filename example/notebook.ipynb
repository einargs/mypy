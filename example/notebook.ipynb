{
 "cells": [
  {
   "cell_type": "code",
   "execution_count": 1,
   "id": "6b9212fe-2cf0-481c-bc7b-9a5c8c608355",
   "metadata": {},
   "outputs": [
    {
     "name": "stderr",
     "output_type": "stream",
     "text": [
      "Version 1.0.2\n"
     ]
    }
   ],
   "source": [
    "%load_ext nb_mypy"
   ]
  },
  {
   "cell_type": "code",
   "execution_count": 2,
   "id": "3233bf7f-2e01-4828-9f6a-c9dab24062fb",
   "metadata": {
    "tags": []
   },
   "outputs": [
    {
     "name": "stderr",
     "output_type": "stream",
     "text": [
      "<cell>8: error: refinement type check failed\n"
     ]
    },
    {
     "name": "stdout",
     "output_type": "stream",
     "text": [
      "RefinementVar fullname None\n",
      "RefinementVar fullname None\n",
      "\n",
      "f\n",
      "var binding X to var(n)\n",
      "Given: [n#1 > 5]\n",
      "Goal: [n#1 > 7]\n",
      "Result: invalid\n"
     ]
    }
   ],
   "source": [
    "from typing import Annotated\n",
    "from refinement import RefinementVar\n",
    "\n",
    "V = RefinementVar('V')\n",
    "X = RefinementVar('X')\n",
    "\n",
    "def f(n: Annotated[int, V, V > 5]) -> Annotated[int, X, X > 7]:\n",
    "    return n\n"
   ]
  },
  {
   "cell_type": "code",
   "execution_count": null,
   "id": "e596dd16-890e-4c20-892a-95ee5910f84e",
   "metadata": {},
   "outputs": [],
   "source": []
  }
 ],
 "metadata": {
  "kernelspec": {
   "display_name": "Python 3 (ipykernel)",
   "language": "python",
   "name": "python3"
  },
  "language_info": {
   "codemirror_mode": {
    "name": "ipython",
    "version": 3
   },
   "file_extension": ".py",
   "mimetype": "text/x-python",
   "name": "python",
   "nbconvert_exporter": "python",
   "pygments_lexer": "ipython3",
   "version": "3.9.10"
  }
 },
 "nbformat": 4,
 "nbformat_minor": 5
}
